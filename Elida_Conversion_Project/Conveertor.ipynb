{
 "cells": [
  {
   "cell_type": "code",
   "execution_count": null,
   "metadata": {},
   "outputs": [],
   "source": [
    "import os\n",
    "import time\n",
    "from fpdf import FPDF\n",
    "from PIL import Image\n",
    "from openpyxl import load_workbook\n",
    "from PyPDF2 import PdfReader, PdfWriter\n",
    "import win32com.client as win32"
   ]
  }
 ],
 "metadata": {
  "language_info": {
   "name": "python"
  }
 },
 "nbformat": 4,
 "nbformat_minor": 2
}
