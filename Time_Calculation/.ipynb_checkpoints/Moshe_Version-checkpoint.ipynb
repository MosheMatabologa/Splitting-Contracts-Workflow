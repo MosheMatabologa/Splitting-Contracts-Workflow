{
 "cells": [
  {
   "cell_type": "code",
   "execution_count": 11,
   "metadata": {
    "scrolled": true
   },
   "outputs": [],
   "source": [
    "import pandas as pd"
   ]
  },
  {
   "cell_type": "code",
   "execution_count": 18,
   "metadata": {},
   "outputs": [],
   "source": [
    "file1 = r'C:\\temp\\Time_Problem.xlsx'\n",
    "df = pd.read_excel(file1, sheet_name=\"Problem\")"
   ]
  },
  {
   "cell_type": "code",
   "execution_count": 24,
   "metadata": {},
   "outputs": [],
   "source": [
    "# Read data from Excel file\n",
    "df = pd.read_excel(file1, sheet_name=\"Problem\")\n",
    "\n",
    "# Convert time strings to timedelta\n",
    "#df['Clock Out Time'] = pd.to_timedelta(df['Clock Out Time'])\n",
    "#df['Clock In Time'] = pd.to_timedelta(df['Clock In Time'])\n",
    "\n",
    "# Convert time strings to timedelta with the correct format including seconds\n",
    "df['Clock Out Time'] = pd.to_timedelta(df['Clock Out Time'].str.replace('24:00', '00:00:00'), errors='coerce')\n",
    "df['Clock In Time'] = pd.to_timedelta(df['Clock In Time'].str.replace('24:00', '00:00:00'), errors='coerce')\n",
    "\n",
    "\n"
   ]
  },
  {
   "cell_type": "code",
   "execution_count": 19,
   "metadata": {},
   "outputs": [],
   "source": [
    "# Define a custom function to calculate time difference without datetime limitations\n",
    "def custom_time_diff(start, end):\n",
    "    # Convert start and end times to total seconds\n",
    "    start_seconds = start.seconds\n",
    "    end_seconds = end.seconds\n",
    "    \n",
    "    # Calculate the difference in seconds\n",
    "    diff_seconds = end_seconds - start_seconds\n",
    "    \n",
    "    # Calculate hours, minutes, and seconds from the difference\n",
    "    hours = diff_seconds // 3600\n",
    "    diff_seconds %= 3600\n",
    "    minutes = diff_seconds // 60\n",
    "    seconds = diff_seconds % 60\n",
    "    \n",
    "    return pd.Timedelta(hours=hours, minutes=minutes, seconds=seconds)\n"
   ]
  },
  {
   "cell_type": "code",
   "execution_count": 21,
   "metadata": {},
   "outputs": [],
   "source": [
    "#section 4\n",
    "\n",
    "# Calculate hours worked within the specified time range\n",
    "def calculate_hours_worked(row):\n",
    "    start_time = row['Clock In Time']\n",
    "    end_time = row['Clock Out Time']\n",
    "    \n",
    "    # Define the time boundaries for a 48-hour day\n",
    "    start_boundary = pd.Timedelta(hours=14)  # 14:00\n",
    "    end_boundary = pd.Timedelta(days=1, hours=6)  # 06:00 the next day\n",
    "    \n",
    "    # Check if the clock in and clock out times are within the boundaries\n",
    "    if start_time >= start_boundary and end_time <= end_boundary:\n",
    "        # Calculate hours worked within the boundaries\n",
    "        return custom_time_diff(start_time, end_time)\n",
    "    else:\n",
    "        return pd.NaT  # Return NaT for rows outside the specified time range\n"
   ]
  },
  {
   "cell_type": "code",
   "execution_count": 26,
   "metadata": {},
   "outputs": [],
   "source": [
    "# Apply the function to calculate hours worked\n",
    "df['Hours Worked'] = df.apply(calculate_hours_worked, axis=1)\n",
    "\n",
    "# Save the DataFrame to Excel\n",
    "df.to_excel(\"output.xlsx\", index=False)\n",
    "\n"
   ]
  },
  {
   "cell_type": "code",
   "execution_count": null,
   "metadata": {},
   "outputs": [],
   "source": []
  }
 ],
 "metadata": {
  "kernelspec": {
   "display_name": "Python 3",
   "language": "python",
   "name": "python3"
  },
  "language_info": {
   "codemirror_mode": {
    "name": "ipython",
    "version": 3
   },
   "file_extension": ".py",
   "mimetype": "text/x-python",
   "name": "python",
   "nbconvert_exporter": "python",
   "pygments_lexer": "ipython3",
   "version": "3.8.5"
  }
 },
 "nbformat": 4,
 "nbformat_minor": 4
}
