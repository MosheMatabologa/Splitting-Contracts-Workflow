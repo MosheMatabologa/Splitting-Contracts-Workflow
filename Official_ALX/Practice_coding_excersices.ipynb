{
 "cells": [
  {
   "cell_type": "code",
   "execution_count": 9,
   "metadata": {},
   "outputs": [],
   "source": [
    "import math\n",
    "import openpyxl\n",
    "import opentracing\n",
    "import pandas as pd\n",
    "import matplotlib.pyplot\n",
    "import numpy as np"
   ]
  },
  {
   "cell_type": "code",
   "execution_count": 3,
   "metadata": {},
   "outputs": [],
   "source": [
    "refrence =  r\"C:\\Users\\Q624157\\Desktop\\Term May payments.xlsx\" \n",
    "sheet_name = 'Wage type reporter'\n",
    "\n",
    "data_pull =  r\"C:\\Users\\Q624157\\Desktop\\Term May payments.xlsx\"\n",
    "sheet_name1 = 'Sheet2'"
   ]
  },
  {
   "cell_type": "code",
   "execution_count": 4,
   "metadata": {},
   "outputs": [],
   "source": [
    "df1 = pd.read_excel(r\"C:\\Users\\Q624157\\Desktop\\Term May payments.xlsx\")\n",
    "sheet_name = 'Wage type reporter'\n",
    "df2 = pd.read_excel(r\"C:\\Users\\Q624157\\Desktop\\Term May payments.xlsx\")\n",
    "sheet_name1 = 'Sheet2'"
   ]
  },
  {
   "cell_type": "code",
   "execution_count": null,
   "metadata": {},
   "outputs": [],
   "source": [
    "import numpy as np\n",
    "\n",
    "def unique_values(sheet_names):\n",
    "    unique_sheet_names = []\n",
    "    for name in sheet_names:\n",
    "        if name == 'Wage type reporter':\n",
    "            break\n",
    "        unique_sheet_names.append(name)\n",
    "    return np.unique(unique_sheet_names)\n",
    "\n",
    "sheet_names = ['Sheet1', 'Sheet2', 'Sheet1', 'Sheet3', 'Wage type reporter', 'Sheet4']\n",
    "unique_sheet_names = unique_values(sheet_names)\n",
    "print(unique_sheet_names)\n"
   ]
  },
  {
   "cell_type": "code",
   "execution_count": 24,
   "metadata": {},
   "outputs": [
    {
     "ename": "NameError",
     "evalue": "name 'unique_codes' is not defined",
     "output_type": "error",
     "traceback": [
      "\u001b[1;31m---------------------------------------------------------------------------\u001b[0m",
      "\u001b[1;31mNameError\u001b[0m                                 Traceback (most recent call last)",
      "Cell \u001b[1;32mIn[24], line 7\u001b[0m\n\u001b[0;32m      4\u001b[0m     \u001b[38;5;28;01mfor\u001b[39;00m x \u001b[38;5;129;01min\u001b[39;00m sheet_name:\n\u001b[0;32m      5\u001b[0m         \u001b[38;5;28;01mreturn\u001b[39;00m(np\u001b[38;5;241m.\u001b[39munique(unique_codes))\n\u001b[1;32m----> 7\u001b[0m \u001b[38;5;28mprint\u001b[39m(\u001b[43munique_codes\u001b[49m)\n",
      "\u001b[1;31mNameError\u001b[0m: name 'unique_codes' is not defined"
     ]
    }
   ],
   "source": [
    "def unique_values():\n",
    "    unique_codes = []\n",
    "    unique_codes = unique_values(sheet_name)\n",
    "    for x in sheet_name:\n",
    "        return(np.unique(unique_codes))\n",
    "\n",
    "print(unique_codes)\n",
    "    \n",
    "\n",
    "\n",
    "\n",
    "    \n"
   ]
  },
  {
   "cell_type": "code",
   "execution_count": 15,
   "metadata": {},
   "outputs": [],
   "source": []
  },
  {
   "cell_type": "code",
   "execution_count": 16,
   "metadata": {},
   "outputs": [
    {
     "data": {
      "text/plain": [
       "1000"
      ]
     },
     "execution_count": 16,
     "metadata": {},
     "output_type": "execute_result"
    },
    {
     "ename": "",
     "evalue": "",
     "output_type": "error",
     "traceback": [
      "\u001b[1;31mThe Kernel crashed while executing code in the current cell or a previous cell. \n",
      "\u001b[1;31mPlease review the code in the cell(s) to identify a possible cause of the failure. \n",
      "\u001b[1;31mClick <a href='https://aka.ms/vscodeJupyterKernelCrash'>here</a> for more info. \n",
      "\u001b[1;31mView Jupyter <a href='command:jupyter.viewOutput'>log</a> for further details."
     ]
    }
   ],
   "source": []
  }
 ],
 "metadata": {
  "kernelspec": {
   "display_name": "Python 3",
   "language": "python",
   "name": "python3"
  },
  "language_info": {
   "codemirror_mode": {
    "name": "ipython",
    "version": 3
   },
   "file_extension": ".py",
   "mimetype": "text/x-python",
   "name": "python",
   "nbconvert_exporter": "python",
   "pygments_lexer": "ipython3",
   "version": "3.12.0"
  }
 },
 "nbformat": 4,
 "nbformat_minor": 2
}
